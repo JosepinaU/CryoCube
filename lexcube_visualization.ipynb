{
 "cells": [
  {
   "cell_type": "markdown",
   "id": "935e707f",
   "metadata": {},
   "source": [
    "# Lexcube Visualization"
   ]
  },
  {
   "cell_type": "markdown",
   "id": "81f8ff1d",
   "metadata": {},
   "source": [
    "### 1. Import Libraries"
   ]
  },
  {
   "cell_type": "code",
   "execution_count": 3,
   "id": "498ebdfb",
   "metadata": {},
   "outputs": [],
   "source": [
    "import lexcube\n",
    "import xarray as xr\n",
    "import numpy as np\n",
    "import pandas as pd\n",
    "import dask\n",
    "import dask.array as da"
   ]
  },
  {
   "cell_type": "markdown",
   "id": "ac63b5c8",
   "metadata": {},
   "source": [
    "### 2. Display Data Cube"
   ]
  },
  {
   "cell_type": "code",
   "execution_count": 4,
   "id": "1151eaf3",
   "metadata": {
    "tags": []
   },
   "outputs": [
    {
     "name": "stdout",
     "output_type": "stream",
     "text": [
      "(1200, 101, 100)\n"
     ]
    },
    {
     "data": {
      "application/vnd.jupyter.widget-view+json": {
       "model_id": "86bbf6172bd9498ba57b30e87e1be5f0",
       "version_major": 2,
       "version_minor": 0
      },
      "text/plain": [
       "Cube3DWidget(api_metadata={'/api': {'status': 'ok', 'api_version': 5}, '/api/datasets': [{'id': 'default', 'sh…"
      ]
     },
     "execution_count": 4,
     "metadata": {},
     "output_type": "execute_result"
    }
   ],
   "source": [
    "# Load the data as a Dask array\n",
    "dask_array = da.from_zarr(\"cryo_subcube.zarr\")\n",
    "\n",
    "# Check the shape to confirm dimensions\n",
    "print(dask_array.shape)\n",
    "\n",
    "# Create a range of datetime objects for the 'time' dimension if needed\n",
    "# Adjust this according to your specific dataset\n",
    "time = pd.date_range(start='2020-07-21', periods=dask_array.shape[0], freq='0.5S')\n",
    "\n",
    "# Create an xarray DataArray\n",
    "# Replace 'channel' and 'freq' with the actual range or labels as per your data\n",
    "ds = xr.DataArray(dask_array, dims=['time', 'channel', 'freq'], coords={'time': time})\n",
    "\n",
    "# Use lexcube.Cube3DWidget\n",
    "lexcube.Cube3DWidget(ds)"
   ]
  }
 ],
 "metadata": {
  "kernelspec": {
   "display_name": "Python 3 (ipykernel)",
   "language": "python",
   "name": "python3"
  },
  "language_info": {
   "codemirror_mode": {
    "name": "ipython",
    "version": 3
   },
   "file_extension": ".py",
   "mimetype": "text/x-python",
   "name": "python",
   "nbconvert_exporter": "python",
   "pygments_lexer": "ipython3",
   "version": "3.10.13"
  }
 },
 "nbformat": 4,
 "nbformat_minor": 5
}
