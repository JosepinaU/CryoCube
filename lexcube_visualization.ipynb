{
 "cells": [
  {
   "cell_type": "markdown",
   "id": "935e707f",
   "metadata": {},
   "source": [
    "# Lexcube Visualization"
   ]
  },
  {
   "cell_type": "markdown",
   "id": "81f8ff1d",
   "metadata": {},
   "source": [
    "### 1. Import Libraries"
   ]
  },
  {
   "cell_type": "code",
   "execution_count": 1,
   "id": "498ebdfb",
   "metadata": {},
   "outputs": [],
   "source": [
    "import lexcube\n",
    "import xarray as xr\n",
    "import numpy as np\n",
    "import pandas as pd\n",
    "import dask\n",
    "import dask.array as da"
   ]
  },
  {
   "cell_type": "markdown",
   "id": "ac63b5c8",
   "metadata": {},
   "source": [
    "### 2. Display Data Cube"
   ]
  },
  {
   "cell_type": "code",
   "execution_count": 7,
   "id": "1151eaf3",
   "metadata": {
    "tags": []
   },
   "outputs": [
    {
     "name": "stdout",
     "output_type": "stream",
     "text": [
      "(119, 2300, 101)\n"
     ]
    },
    {
     "data": {
      "application/vnd.jupyter.widget-view+json": {
       "model_id": "a3088332787e4b3fa0ad488e07ad46bf",
       "version_major": 2,
       "version_minor": 0
      },
      "text/plain": [
       "Cube3DWidget(api_metadata={'/api': {'status': 'ok', 'api_version': 5}, '/api/datasets': [{'id': 'default', 'sh…"
      ]
     },
     "execution_count": 7,
     "metadata": {},
     "output_type": "execute_result"
    }
   ],
   "source": [
    "# Load the data as a Dask array\n",
    "dask_array = da.from_zarr(\"cryo_cube.zarr/data\")\n",
    "\n",
    "# Check the shape to confirm dimensions\n",
    "print(dask_array.shape)\n",
    "\n",
    "# Create a range of datetime objects for the 'time' dimension if needed\n",
    "# Adjust this according to your specific dataset\n",
    "time = pd.date_range(start='2020-07-21', periods=dask_array.shape[0], freq='0.5s')\n",
    "\n",
    "# Create an xarray DataArray\n",
    "# Replace 'channel' and 'freq' with the actual range or labels as per your data\n",
    "ds = xr.DataArray(dask_array, dims=['time', 'channel', 'freq'], coords={'time': time})\n",
    "\n",
    "# Use lexcube.Cube3DWidget\n",
    "w = lexcube.Cube3DWidget(ds)\n",
    "\n",
    "w"
   ]
  },
  {
   "cell_type": "code",
   "execution_count": 8,
   "id": "394f5eee-c306-4edc-b10c-09f46cdd2f6c",
   "metadata": {},
   "outputs": [
    {
     "data": {
      "application/vnd.jupyter.widget-view+json": {
       "model_id": "ec9328e96c8944f6810ec6b418a2a944",
       "version_major": 2,
       "version_minor": 0
      },
      "text/plain": [
       "Sliders(children=(HBox(children=(IntRangeSlider(value=(0, 100), description='freq:'),)), HBox(children=(IntRan…"
      ]
     },
     "execution_count": 8,
     "metadata": {},
     "output_type": "execute_result"
    }
   ],
   "source": [
    "w.show_sliders()"
   ]
  }
 ],
 "metadata": {
  "kernelspec": {
   "display_name": "Python 3 (ipykernel)",
   "language": "python",
   "name": "python3"
  },
  "language_info": {
   "codemirror_mode": {
    "name": "ipython",
    "version": 3
   },
   "file_extension": ".py",
   "mimetype": "text/x-python",
   "name": "python",
   "nbconvert_exporter": "python",
   "pygments_lexer": "ipython3",
   "version": "3.10.12"
  }
 },
 "nbformat": 4,
 "nbformat_minor": 5
}
